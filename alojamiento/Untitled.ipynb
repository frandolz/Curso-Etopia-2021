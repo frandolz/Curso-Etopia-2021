{
 "cells": [
  {
   "cell_type": "code",
   "execution_count": 1,
   "id": "88d55641",
   "metadata": {},
   "outputs": [],
   "source": [
    "import pandas as pd"
   ]
  },
  {
   "cell_type": "code",
   "execution_count": 5,
   "id": "485e5a48",
   "metadata": {},
   "outputs": [],
   "source": [
    "import folium"
   ]
  },
  {
   "cell_type": "code",
   "execution_count": 2,
   "id": "494bea24",
   "metadata": {
    "scrolled": true
   },
   "outputs": [
    {
     "name": "stdout",
     "output_type": "stream",
     "text": [
      "Collecting folium\n",
      "  Downloading folium-0.12.1-py2.py3-none-any.whl (94 kB)\n",
      "\u001b[K     |████████████████████████████████| 94 kB 4.5 MB/s eta 0:00:011\n",
      "\u001b[?25hCollecting branca>=0.3.0\n",
      "  Downloading branca-0.4.2-py3-none-any.whl (24 kB)\n",
      "Requirement already satisfied: requests in /home/fran/anaconda3/lib/python3.8/site-packages (from folium) (2.25.1)\n",
      "Requirement already satisfied: jinja2>=2.9 in /home/fran/anaconda3/lib/python3.8/site-packages (from folium) (3.0.1)\n",
      "Requirement already satisfied: numpy in /home/fran/anaconda3/lib/python3.8/site-packages (from folium) (1.20.3)\n",
      "Requirement already satisfied: MarkupSafe>=2.0 in /home/fran/anaconda3/lib/python3.8/site-packages (from jinja2>=2.9->folium) (2.0.1)\n",
      "Requirement already satisfied: certifi>=2017.4.17 in /home/fran/anaconda3/lib/python3.8/site-packages (from requests->folium) (2021.5.30)\n",
      "Requirement already satisfied: chardet<5,>=3.0.2 in /home/fran/anaconda3/lib/python3.8/site-packages (from requests->folium) (4.0.0)\n",
      "Requirement already satisfied: idna<3,>=2.5 in /home/fran/anaconda3/lib/python3.8/site-packages (from requests->folium) (2.10)\n",
      "Requirement already satisfied: urllib3<1.27,>=1.21.1 in /home/fran/anaconda3/lib/python3.8/site-packages (from requests->folium) (1.26.6)\n",
      "Installing collected packages: branca, folium\n",
      "Successfully installed branca-0.4.2 folium-0.12.1\n"
     ]
    }
   ],
   "source": [
    "!pip3 install folium"
   ]
  },
  {
   "cell_type": "code",
   "execution_count": 7,
   "id": "9c3cae94",
   "metadata": {},
   "outputs": [],
   "source": [
    "m=folium.Map()"
   ]
  },
  {
   "cell_type": "code",
   "execution_count": null,
   "id": "86269ec5",
   "metadata": {},
   "outputs": [],
   "source": []
  }
 ],
 "metadata": {
  "kernelspec": {
   "display_name": "Python 3",
   "language": "python",
   "name": "python3"
  },
  "language_info": {
   "codemirror_mode": {
    "name": "ipython",
    "version": 3
   },
   "file_extension": ".py",
   "mimetype": "text/x-python",
   "name": "python",
   "nbconvert_exporter": "python",
   "pygments_lexer": "ipython3",
   "version": "3.8.3"
  }
 },
 "nbformat": 4,
 "nbformat_minor": 5
}
